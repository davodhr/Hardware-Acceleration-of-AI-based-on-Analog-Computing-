{
  "nbformat": 4,
  "nbformat_minor": 0,
  "metadata": {
    "colab": {
      "name": "1.1 Tensors 1D.ipynb",
      "provenance": [],
      "collapsed_sections": [],
      "authorship_tag": "ABX9TyPJO3nqpTNJml9nWZEvRhVw",
      "include_colab_link": true
    },
    "kernelspec": {
      "name": "python3",
      "display_name": "Python 3"
    },
    "language_info": {
      "name": "python"
    }
  },
  "cells": [
    {
      "cell_type": "markdown",
      "metadata": {
        "id": "view-in-github",
        "colab_type": "text"
      },
      "source": [
        "<a href=\"https://colab.research.google.com/github/davodhr/Hardware-Acceleration-of-AI-based-on-Analog-Computing-/blob/main/1_1_Tensors_1D.ipynb\" target=\"_parent\"><img src=\"https://colab.research.google.com/assets/colab-badge.svg\" alt=\"Open In Colab\"/></a>"
      ]
    },
    {
      "cell_type": "code",
      "metadata": {
        "id": "9n2Xfc-6nJFp"
      },
      "source": [
        "import torch"
      ],
      "execution_count": 2,
      "outputs": []
    },
    {
      "cell_type": "code",
      "metadata": {
        "id": "6P1mHj7CnWA-"
      },
      "source": [
        "a = torch.tensor([7,5,6,9,0])"
      ],
      "execution_count": 3,
      "outputs": []
    },
    {
      "cell_type": "code",
      "metadata": {
        "colab": {
          "base_uri": "https://localhost:8080/"
        },
        "id": "EdgRU6Cungvx",
        "outputId": "50b85d38-19e2-4832-9c70-88941a3136af"
      },
      "source": [
        "# We can use the data attribute dtype to find the type of data that is stored within the tensor\n",
        "a.dtype"
      ],
      "execution_count": 4,
      "outputs": [
        {
          "output_type": "execute_result",
          "data": {
            "text/plain": [
              "torch.int64"
            ]
          },
          "metadata": {
            "tags": []
          },
          "execution_count": 4
        }
      ]
    },
    {
      "cell_type": "code",
      "metadata": {
        "colab": {
          "base_uri": "https://localhost:8080/",
          "height": 35
        },
        "id": "N0fIcBSTnkxM",
        "outputId": "1e2edfec-5e6f-4b41-df2b-e3e18f7a6419"
      },
      "source": [
        "# We can use the method type to find the type of the tensor.\n",
        "a.type()"
      ],
      "execution_count": 5,
      "outputs": [
        {
          "output_type": "execute_result",
          "data": {
            "application/vnd.google.colaboratory.intrinsic+json": {
              "type": "string"
            },
            "text/plain": [
              "'torch.LongTensor'"
            ]
          },
          "metadata": {
            "tags": []
          },
          "execution_count": 5
        }
      ]
    },
    {
      "cell_type": "code",
      "metadata": {
        "id": "BH3JX933oZaF"
      },
      "source": [
        "# We can specify the data type using the parameter d type\n",
        "b = torch.tensor([1.0, 5.0, 0.0], dtype=torch.int32)"
      ],
      "execution_count": 6,
      "outputs": []
    },
    {
      "cell_type": "code",
      "metadata": {
        "colab": {
          "base_uri": "https://localhost:8080/"
        },
        "id": "-U8jU9kwoxne",
        "outputId": "5f07802d-be6d-4f10-a761-c2381f1e5c2d"
      },
      "source": [
        "# We can also explicitly create a tensor of a specific type,\n",
        "c = torch.FloatTensor([0, 1, 3,])\n",
        "c.dtype"
      ],
      "execution_count": 7,
      "outputs": [
        {
          "output_type": "execute_result",
          "data": {
            "text/plain": [
              "torch.float32"
            ]
          },
          "metadata": {
            "tags": []
          },
          "execution_count": 7
        }
      ]
    },
    {
      "cell_type": "code",
      "metadata": {
        "colab": {
          "base_uri": "https://localhost:8080/"
        },
        "id": "OVlFFFXepAbF",
        "outputId": "ba324dc5-a19f-42b1-9dd6-367f9f7ca7af"
      },
      "source": [
        "# We can also change the type of the tensor. \n",
        "d = a.type(torch.FloatTensor)\n",
        "d.dtype"
      ],
      "execution_count": 17,
      "outputs": [
        {
          "output_type": "execute_result",
          "data": {
            "text/plain": [
              "torch.float32"
            ]
          },
          "metadata": {
            "tags": []
          },
          "execution_count": 17
        }
      ]
    },
    {
      "cell_type": "code",
      "metadata": {
        "colab": {
          "base_uri": "https://localhost:8080/"
        },
        "id": "GaYV1uX7pqlh",
        "outputId": "876e23ce-00b4-4665-9468-5a14ec6f0212"
      },
      "source": [
        "# The method size gives us the number of elements in the tensor\n",
        "c.size()"
      ],
      "execution_count": 8,
      "outputs": [
        {
          "output_type": "execute_result",
          "data": {
            "text/plain": [
              "torch.Size([3])"
            ]
          },
          "metadata": {
            "tags": []
          },
          "execution_count": 8
        }
      ]
    },
    {
      "cell_type": "code",
      "metadata": {
        "colab": {
          "base_uri": "https://localhost:8080/"
        },
        "id": "F3O7w-yHpvUG",
        "outputId": "0cb19c1e-5d7b-4f43-93dc-8ba605cae73c"
      },
      "source": [
        "# The attribute “ndimension” represents the number of dimensions or the rank of the tensor\n",
        "c.ndimension()"
      ],
      "execution_count": 9,
      "outputs": [
        {
          "output_type": "execute_result",
          "data": {
            "text/plain": [
              "1"
            ]
          },
          "metadata": {
            "tags": []
          },
          "execution_count": 9
        }
      ]
    },
    {
      "cell_type": "code",
      "metadata": {
        "colab": {
          "base_uri": "https://localhost:8080/"
        },
        "id": "NYwAlvFXpzlR",
        "outputId": "fa9031b7-02d2-4c16-e41c-f2e0c388fab7"
      },
      "source": [
        "# We will convert this tensor into a 2-D tensor using the view method in pytorch.\n",
        "a_col1 = a.view(5,1)\n",
        "# or (-1 instead of 5)\n",
        "a_col2 = a.view(-1,1)\n",
        "\n",
        "print(a_col1.ndimension())\n",
        "#print('*****')\n",
        "print(a_col2.ndimension())"
      ],
      "execution_count": 15,
      "outputs": [
        {
          "output_type": "stream",
          "text": [
            "2\n",
            "2\n"
          ],
          "name": "stdout"
        }
      ]
    },
    {
      "cell_type": "code",
      "metadata": {
        "id": "M1vFjIlRqsu7"
      },
      "source": [
        "import numpy as np"
      ],
      "execution_count": 16,
      "outputs": []
    },
    {
      "cell_type": "code",
      "metadata": {
        "colab": {
          "base_uri": "https://localhost:8080/"
        },
        "id": "mtFOIJubrVtx",
        "outputId": "83326901-a287-4d6f-b215-6f8c84ab9bc4"
      },
      "source": [
        "# We can convert a numpy array to a torch tensor using the function “from numpy”.\n",
        "numpy_array = np.array([0.0, 1.0, 2.0, 3.0, 4.0])\n",
        "torch_tensor = torch.from_numpy(numpy_array)\n",
        "\n",
        "# We can convert the torch tensor back to numpy array using the method numpy\n",
        "back_to_numpy = torch_tensor.numpy()\n",
        "\n",
        "# If you change the variable numpy_array both torch_tensor and back_to_numpy will change.\n",
        "numpy_array[0] = 6.0\n",
        "print(back_to_numpy)"
      ],
      "execution_count": 21,
      "outputs": [
        {
          "output_type": "stream",
          "text": [
            "[6. 1. 2. 3. 4.]\n"
          ],
          "name": "stdout"
        }
      ]
    },
    {
      "cell_type": "code",
      "metadata": {
        "id": "RDug6TTWr-Yx"
      },
      "source": [
        "import pandas as pd"
      ],
      "execution_count": 23,
      "outputs": []
    },
    {
      "cell_type": "code",
      "metadata": {
        "id": "O2z4SagVsj8N"
      },
      "source": [
        "# We simply use the attribute “values” to convert the pandas series to a numpy array\n",
        "pandas_series = pd.Series([0.1, 2, 0.3, 10.1])\n",
        "\n",
        "pandas_to_torch = torch.from_numpy(pandas_series.values)"
      ],
      "execution_count": 27,
      "outputs": []
    },
    {
      "cell_type": "code",
      "metadata": {
        "id": "afEkweOAsqXG"
      },
      "source": [
        "# We can use the method “to_list” to return a list from a tensor\n"
      ],
      "execution_count": null,
      "outputs": []
    }
  ]
}